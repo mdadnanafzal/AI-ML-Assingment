{
 "cells": [
  {
   "cell_type": "code",
   "execution_count": 11,
   "id": "dc22126e",
   "metadata": {},
   "outputs": [
    {
     "name": "stdout",
     "output_type": "stream",
     "text": [
      "['nice', 'to', 'meet', 'you', 'all', '']\n"
     ]
    }
   ],
   "source": [
    "# 1> Explore split, strip, replace, center, title methods of string data type in python \n",
    "\n",
    "s=\"nice to meet you all \"\n",
    "\n",
    "z=s.split(\" \")\n",
    "\n",
    "print(z)"
   ]
  },
  {
   "cell_type": "code",
   "execution_count": 3,
   "id": "5293b967",
   "metadata": {},
   "outputs": [
    {
     "ename": "NameError",
     "evalue": "name 's' is not defined",
     "output_type": "error",
     "traceback": [
      "\u001b[1;31m---------------------------------------------------------------------------\u001b[0m",
      "\u001b[1;31mNameError\u001b[0m                                 Traceback (most recent call last)",
      "Cell \u001b[1;32mIn[3], line 1\u001b[0m\n\u001b[1;32m----> 1\u001b[0m x\u001b[38;5;241m=\u001b[39m\u001b[43ms\u001b[49m\u001b[38;5;241m.\u001b[39mreplace(\u001b[38;5;124m\"\u001b[39m\u001b[38;5;124mall\u001b[39m\u001b[38;5;124m\"\u001b[39m,\u001b[38;5;124m\"\u001b[39m\u001b[38;5;124mshara\u001b[39m\u001b[38;5;124m\"\u001b[39m)\n\u001b[0;32m      2\u001b[0m \u001b[38;5;28mprint\u001b[39m(x)\n",
      "\u001b[1;31mNameError\u001b[0m: name 's' is not defined"
     ]
    }
   ],
   "source": [
    "x=s.replace(\"all\",\"adyy\")\n",
    "print(x)"
   ]
  },
  {
   "cell_type": "code",
   "execution_count": 5,
   "id": "b9d04fa5",
   "metadata": {},
   "outputs": [],
   "source": [
    "x=s.center(30)"
   ]
  },
  {
   "cell_type": "code",
   "execution_count": 6,
   "id": "d7157feb",
   "metadata": {},
   "outputs": [
    {
     "name": "stdout",
     "output_type": "stream",
     "text": [
      "    nice to meet you all      \n"
     ]
    }
   ],
   "source": [
    "print(x)"
   ]
  },
  {
   "cell_type": "code",
   "execution_count": 7,
   "id": "eeb5a2a9",
   "metadata": {},
   "outputs": [
    {
     "name": "stdout",
     "output_type": "stream",
     "text": [
      "Nice To Meet You All \n"
     ]
    }
   ],
   "source": [
    "x=s.title()\n",
    "print(x)"
   ]
  },
  {
   "cell_type": "markdown",
   "id": "04694103",
   "metadata": {},
   "source": [
    "### 2. Explore append, pop, remove, sort methods of list data type "
   ]
  },
  {
   "cell_type": "code",
   "execution_count": 14,
   "id": "4c875cb7",
   "metadata": {},
   "outputs": [
    {
     "name": "stdout",
     "output_type": "stream",
     "text": [
      "['nice', 'to', 'meet', 'you', 'all', '', 'how', 'are', 'you', 'how', 'are', 'you', 'how', 'are', 'you']\n"
     ]
    }
   ],
   "source": [
    "z.append(\"how\")\n",
    "z.append(\"are\")\n",
    "z.append(\"you\")\n",
    "print(z)"
   ]
  },
  {
   "cell_type": "code",
   "execution_count": 16,
   "id": "4420f272",
   "metadata": {},
   "outputs": [
    {
     "name": "stdout",
     "output_type": "stream",
     "text": [
      "meet\n"
     ]
    }
   ],
   "source": [
    "x=z.pop(2)\n",
    "print(x)"
   ]
  },
  {
   "cell_type": "code",
   "execution_count": 19,
   "id": "c72ec30b",
   "metadata": {},
   "outputs": [
    {
     "name": "stdout",
     "output_type": "stream",
     "text": [
      "['nice', 'to', 'you', 'all', '', 'how', 'you', 'how', 'are', 'you', 'how', 'are', 'you']\n"
     ]
    }
   ],
   "source": [
    "x=z.remove(\"are\")\n",
    "print(z)"
   ]
  },
  {
   "cell_type": "code",
   "execution_count": 21,
   "id": "68c373c4",
   "metadata": {},
   "outputs": [
    {
     "name": "stdout",
     "output_type": "stream",
     "text": [
      "['', 'all', 'are', 'are', 'how', 'how', 'how', 'nice', 'to', 'you', 'you', 'you', 'you']\n"
     ]
    }
   ],
   "source": [
    "z.sort()\n",
    "print(z)"
   ]
  },
  {
   "cell_type": "markdown",
   "id": "42c1d099",
   "metadata": {},
   "source": [
    "###  3>  Create 5 real time lists to store some useful information in python"
   ]
  },
  {
   "cell_type": "code",
   "execution_count": 24,
   "id": "12075752",
   "metadata": {},
   "outputs": [
    {
     "name": "stdout",
     "output_type": "stream",
     "text": [
      "['java', 'c', 'c++', 'ruby']\n"
     ]
    }
   ],
   "source": [
    "Language = [\"java\",\"c\",\"c++\",\"ruby\"] \n",
    "print(Language)"
   ]
  },
  {
   "cell_type": "markdown",
   "id": "c58a438f",
   "metadata": {},
   "source": [
    "### 4> What is difference between mutable and immutable data types in python\n",
    "    An object that allows you to change its values without changing its identity is a mutable object. The changes that you can perform on a mutable object's value are known as mutations. In contrast, an object that doesn't allow changes in its value is an immutable object.\n",
    "    "
   ]
  },
  {
   "cell_type": "markdown",
   "id": "4b3dd421",
   "metadata": {},
   "source": [
    "#### 5> What are identifiers, list rules of identifiers in python  \n",
    "    \n",
    "    Identifiers are the name given to variables, classes, methods, etc. For example, language = 'Python' Here, language is a variable (an identifier) which holds the value 'Python' .\n",
    "    \n",
    "    \n"
   ]
  }
 ],
 "metadata": {
  "kernelspec": {
   "display_name": "Python 3 (ipykernel)",
   "language": "python",
   "name": "python3"
  },
  "language_info": {
   "codemirror_mode": {
    "name": "ipython",
    "version": 3
   },
   "file_extension": ".py",
   "mimetype": "text/x-python",
   "name": "python",
   "nbconvert_exporter": "python",
   "pygments_lexer": "ipython3",
   "version": "3.10.9"
  }
 },
 "nbformat": 4,
 "nbformat_minor": 5
}
