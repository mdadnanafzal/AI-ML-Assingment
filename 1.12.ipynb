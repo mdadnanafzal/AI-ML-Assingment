{
 "cells": [
  {
   "cell_type": "code",
   "execution_count": 1,
   "id": "0966a329",
   "metadata": {},
   "outputs": [
    {
     "name": "stdout",
     "output_type": "stream",
     "text": [
      "Welcome to the Guess Game!\n",
      "Guess a number between 1 and 50.\n",
      "Enter your guess: 12\n",
      "Hint: Think of a bigger number!\n",
      "Chances left: 4\n",
      "Enter your guess: 34\n",
      "Hint: Think of a smaller number!\n",
      "Chances left: 3\n",
      "Enter your guess: 30\n",
      "Hint: Think of a smaller number!\n",
      "Chances left: 2\n",
      "Enter your guess: 25\n",
      "Hint: Think of a bigger number!\n",
      "Chances left: 1\n",
      "Enter your guess: 26\n",
      "Hint: Think of a bigger number!\n",
      "Game over! The secret number was: 28\n"
     ]
    }
   ],
   "source": [
    "import random\n",
    "\n",
    "def guess_game():\n",
    "    secret_number = random.randint(1, 50)\n",
    "    chances = 5\n",
    "    \n",
    "    print(\"Welcome to the Guess Game!\")\n",
    "    print(\"Guess a number between 1 and 50.\")\n",
    "\n",
    "    while chances > 0:\n",
    "        try:\n",
    "            guess = int(input(\"Enter your guess: \"))\n",
    "        except ValueError:\n",
    "            print(\"Invalid input! Please enter a valid number.\")\n",
    "            continue\n",
    "\n",
    "        if guess < 1 or guess > 50:\n",
    "            print(\"Think within the limits 1-50 only!\")\n",
    "            continue\n",
    "\n",
    "        if guess == secret_number:\n",
    "            print(\"Congratulations! You guessed the correct number:\", secret_number)\n",
    "            break\n",
    "        elif guess < secret_number:\n",
    "            print(\"Hint: Think of a bigger number!\")\n",
    "        else:\n",
    "            print(\"Hint: Think of a smaller number!\")\n",
    "\n",
    "        chances -= 1\n",
    "        if chances > 0:\n",
    "            print(\"Chances left:\", chances)\n",
    "        else:\n",
    "            print(\"Game over! The secret number was:\", secret_number)\n",
    "\n",
    "\n",
    "guess_game()\n"
   ]
  },
  {
   "cell_type": "markdown",
   "id": "b08e166f",
   "metadata": {},
   "source": [
    "Bubble sort"
   ]
  },
  {
   "cell_type": "code",
   "execution_count": 2,
   "id": "234ff260",
   "metadata": {},
   "outputs": [
    {
     "name": "stdout",
     "output_type": "stream",
     "text": [
      "[2, 3, 4, 5, 8]\n"
     ]
    }
   ],
   "source": [
    "def bubble_sort(arr):\n",
    "    n = len(arr)\n",
    "    \n",
    "    for i in range(n - 1):\n",
    "      \n",
    "        for j in range(n - i - 1):\n",
    "            \n",
    "            if arr[j] > arr[j + 1]:\n",
    "                arr[j], arr[j + 1] = arr[j + 1], arr[j]\n",
    "\n",
    "\n",
    "numbers = [5, 3, 8, 4, 2]\n",
    "bubble_sort(numbers)\n",
    "print(numbers)\n"
   ]
  },
  {
   "cell_type": "markdown",
   "id": "f19302b9",
   "metadata": {},
   "source": [
    "inserion sort"
   ]
  },
  {
   "cell_type": "code",
   "execution_count": 3,
   "id": "5eb00667",
   "metadata": {},
   "outputs": [
    {
     "name": "stdout",
     "output_type": "stream",
     "text": [
      "[2, 3, 4, 5, 8]\n"
     ]
    }
   ],
   "source": [
    "def insertion_sort(arr):\n",
    "    n = len(arr)\n",
    "    \n",
    "    for i in range(1, n):\n",
    "        key = arr[i]   \n",
    "        j = i - 1      \n",
    "        \n",
    "        \n",
    "        while j >= 0 and arr[j] > key:\n",
    "            arr[j + 1] = arr[j]\n",
    "            j -= 1\n",
    "        \n",
    "        arr[j + 1] = key  \n",
    "\n",
    "\n",
    "numbers = [5, 3, 8, 4, 2]\n",
    "insertion_sort(numbers)\n",
    "print(numbers)\n"
   ]
  },
  {
   "cell_type": "markdown",
   "id": "2135954d",
   "metadata": {},
   "source": [
    "selection sort"
   ]
  },
  {
   "cell_type": "code",
   "execution_count": 4,
   "id": "ea3f5140",
   "metadata": {},
   "outputs": [
    {
     "name": "stdout",
     "output_type": "stream",
     "text": [
      "[2, 3, 4, 5, 8]\n"
     ]
    }
   ],
   "source": [
    "def selection_sort(arr):\n",
    "    n = len(arr)\n",
    "    \n",
    "    for i in range(n - 1):\n",
    "        min_index = i\n",
    "        \n",
    "       \n",
    "        for j in range(i + 1, n):\n",
    "            if arr[j] < arr[min_index]:\n",
    "                min_index = j\n",
    "        \n",
    "        \n",
    "        arr[i], arr[min_index] = arr[min_index], arr[i]\n",
    "\n",
    "\n",
    "numbers = [5, 3, 8, 4, 2]\n",
    "selection_sort(numbers)\n",
    "print(numbers)\n"
   ]
  },
  {
   "cell_type": "code",
   "execution_count": null,
   "id": "bc7a2376",
   "metadata": {},
   "outputs": [],
   "source": []
  }
 ],
 "metadata": {
  "kernelspec": {
   "display_name": "Python 3 (ipykernel)",
   "language": "python",
   "name": "python3"
  },
  "language_info": {
   "codemirror_mode": {
    "name": "ipython",
    "version": 3
   },
   "file_extension": ".py",
   "mimetype": "text/x-python",
   "name": "python",
   "nbconvert_exporter": "python",
   "pygments_lexer": "ipython3",
   "version": "3.10.9"
  }
 },
 "nbformat": 4,
 "nbformat_minor": 5
}
