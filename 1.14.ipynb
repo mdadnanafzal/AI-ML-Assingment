{
 "cells": [
  {
   "cell_type": "markdown",
   "id": "326fb975",
   "metadata": {},
   "source": [
    "Q1"
   ]
  },
  {
   "cell_type": "code",
   "execution_count": 1,
   "id": "4e3230f8",
   "metadata": {},
   "outputs": [
    {
     "name": "stdout",
     "output_type": "stream",
     "text": [
      "The sum of digits of 98765 is: 8\n"
     ]
    }
   ],
   "source": [
    "def sum_of_digits(number):\n",
    "    while number > 9:\n",
    "        digit_sum = 0\n",
    "        while number > 0:\n",
    "            digit_sum += number % 10\n",
    "            number //= 10\n",
    "        number = digit_sum\n",
    "    return number\n",
    "\n",
    "\n",
    "num = 98765\n",
    "result = sum_of_digits(num)\n",
    "print(\"The sum of digits of\", num, \"is:\", result)\n"
   ]
  },
  {
   "cell_type": "markdown",
   "id": "06bc6011",
   "metadata": {},
   "source": [
    "Q2"
   ]
  },
  {
   "cell_type": "code",
   "execution_count": 2,
   "id": "5af04e05",
   "metadata": {},
   "outputs": [
    {
     "name": "stdout",
     "output_type": "stream",
     "text": [
      "The LCM of 24 and 36 is: 72\n",
      "The HCF of 24 and 36 is: 12\n"
     ]
    }
   ],
   "source": [
    "def calculate_lcm(x, y):\n",
    "    \n",
    "    max_num = max(x, y)\n",
    "\n",
    "    \n",
    "    lcm = max_num\n",
    "    while True:\n",
    "        if lcm % x == 0 and lcm % y == 0:\n",
    "            break\n",
    "        lcm += max_num\n",
    "\n",
    "    return lcm\n",
    "\n",
    "\n",
    "def calculate_hcf(x, y):\n",
    "    \n",
    "    min_num = min(x, y)\n",
    "\n",
    "    \n",
    "    hcf = 1\n",
    "    for i in range(1, min_num + 1):\n",
    "        if x % i == 0 and y % i == 0:\n",
    "            hcf = i\n",
    "\n",
    "    return hcf\n",
    "\n",
    "\n",
    "\n",
    "num1 = 24\n",
    "num2 = 36\n",
    "\n",
    "lcm_result = calculate_lcm(num1, num2)\n",
    "hcf_result = calculate_hcf(num1, num2)\n",
    "\n",
    "print(\"The LCM of\", num1, \"and\", num2, \"is:\", lcm_result)\n",
    "print(\"The HCF of\", num1, \"and\", num2, \"is:\", hcf_result)\n"
   ]
  },
  {
   "cell_type": "markdown",
   "id": "b427dafe",
   "metadata": {},
   "source": [
    "Q3"
   ]
  },
  {
   "cell_type": "code",
   "execution_count": null,
   "id": "8018e1e6",
   "metadata": {},
   "outputs": [],
   "source": [
    "def print_cubes_divisible_by_three(n):\n",
    "    for i in range(1, n + 1):\n",
    "        if i % 3 == 0:\n",
    "            cube = i ** 3\n",
    "            print(f\"The cube of {i} is {cube}\")\n",
    "\n",
    "\n",
    "\n",
    "num = int(input(\"Enter a number: \"))\n",
    "print_cubes_divisible_by_three(num)\n"
   ]
  },
  {
   "cell_type": "markdown",
   "id": "b3675f7c",
   "metadata": {},
   "source": [
    "Q4"
   ]
  },
  {
   "cell_type": "code",
   "execution_count": 3,
   "id": "ba96ae63",
   "metadata": {},
   "outputs": [
    {
     "name": "stdout",
     "output_type": "stream",
     "text": [
      "Enter a number: 2345\n",
      "Number of digits: 4\n"
     ]
    }
   ],
   "source": [
    "def count_digits(number):\n",
    "    count = 0\n",
    "\n",
    "\n",
    "    if number == 0:\n",
    "        return 1\n",
    "\n",
    "    while number != 0:\n",
    "        count += 1\n",
    "        number //= 10\n",
    "\n",
    "    return count\n",
    "\n",
    "\n",
    "num = int(input(\"Enter a number: \"))\n",
    "digit_count = count_digits(num)\n",
    "print(\"Number of digits:\", digit_count)\n"
   ]
  },
  {
   "cell_type": "markdown",
   "id": "325cf470",
   "metadata": {},
   "source": [
    "Q5"
   ]
  },
  {
   "cell_type": "code",
   "execution_count": 4,
   "id": "27b4f0b8",
   "metadata": {},
   "outputs": [
    {
     "name": "stdout",
     "output_type": "stream",
     "text": [
      "Enter a number: 345\n",
      "Reversed number: 543\n"
     ]
    }
   ],
   "source": [
    "def reverse_number(number):\n",
    "    reversed_num = 0\n",
    "\n",
    "    while number != 0:\n",
    "   \n",
    "        last_digit = number % 10\n",
    "\n",
    "    \n",
    "        reversed_num = (reversed_num * 10) + last_digit\n",
    "\n",
    "    \n",
    "        number //= 10\n",
    "\n",
    "    return reversed_num\n",
    "\n",
    "\n",
    "\n",
    "num = int(input(\"Enter a number: \"))\n",
    "reversed_number = reverse_number(num)\n",
    "print(\"Reversed number:\", reversed_number)\n"
   ]
  },
  {
   "cell_type": "code",
   "execution_count": null,
   "id": "77c99de4",
   "metadata": {},
   "outputs": [],
   "source": []
  }
 ],
 "metadata": {
  "kernelspec": {
   "display_name": "Python 3 (ipykernel)",
   "language": "python",
   "name": "python3"
  },
  "language_info": {
   "codemirror_mode": {
    "name": "ipython",
    "version": 3
   },
   "file_extension": ".py",
   "mimetype": "text/x-python",
   "name": "python",
   "nbconvert_exporter": "python",
   "pygments_lexer": "ipython3",
   "version": "3.10.9"
  }
 },
 "nbformat": 4,
 "nbformat_minor": 5
}
