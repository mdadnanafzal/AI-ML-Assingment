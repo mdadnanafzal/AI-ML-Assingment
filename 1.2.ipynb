{
 "cells": [
  {
   "cell_type": "markdown",
   "id": "3b3a2ab7",
   "metadata": {},
   "source": [
    "Q4.Write Down difference between interpreter and compiler "
   ]
  },
  {
   "cell_type": "markdown",
   "id": "69fbe45a",
   "metadata": {},
   "source": [
    "A compiler is a translator that produces an output of low-level language by taking an input of high-level language. "
   ]
  },
  {
   "cell_type": "markdown",
   "id": "e29d7868",
   "metadata": {},
   "source": [
    "Q5. What is Data Structure, why we need one in programs?  "
   ]
  },
  {
   "cell_type": "markdown",
   "id": "fe6525db",
   "metadata": {},
   "source": [
    "Data structures allow us to organize and store data, while algorithms allow us to process that data in a meaningful way.\n",
    "As applications are becoming more complex and the amount of data is increasing day by day, which may cause problems with processing speed, searching data, handling multiple requests etc. Data structure provides a way of organizing, managing, and storing data efficiently. With the help of data structure, the data items can be traversed easily. Data structure provides efficiency, reusability and abstraction. "
   ]
  }
 ],
 "metadata": {
  "kernelspec": {
   "display_name": "Python 3 (ipykernel)",
   "language": "python",
   "name": "python3"
  },
  "language_info": {
   "codemirror_mode": {
    "name": "ipython",
    "version": 3
   },
   "file_extension": ".py",
   "mimetype": "text/x-python",
   "name": "python",
   "nbconvert_exporter": "python",
   "pygments_lexer": "ipython3",
   "version": "3.10.9"
  }
 },
 "nbformat": 4,
 "nbformat_minor": 5
}
