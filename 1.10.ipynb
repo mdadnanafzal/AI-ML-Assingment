{
 "cells": [
  {
   "cell_type": "markdown",
   "id": "c8ab66fe",
   "metadata": {},
   "source": [
    "Q1.Python Program to Check Palindrome Number "
   ]
  },
  {
   "cell_type": "code",
   "execution_count": 2,
   "id": "88a792c3",
   "metadata": {},
   "outputs": [
    {
     "name": "stdout",
     "output_type": "stream",
     "text": [
      "enter a number: 1234\n",
      "entered number is not palindrome\n"
     ]
    }
   ],
   "source": [
    "def if_palindrome(number):\n",
    "    number_str = str(number)\n",
    "    length = len(number_str)\n",
    "\n",
    "    for i in range(length // 2):\n",
    "        if number_str[i] != number_str[length - 1 - i]:\n",
    "            return False\n",
    "\n",
    "    return True\n",
    "\n",
    "\n",
    "number = int(input(\"enter a number: \"))\n",
    "if if_palindrome(number):\n",
    "    print(\"entered number is palindrome\")\n",
    "else:\n",
    "    print(\"entered number is not palindrome\")\n"
   ]
  },
  {
   "cell_type": "markdown",
   "id": "9f611dce",
   "metadata": {},
   "source": [
    "Q5 Python Program to Check Armstrong Number "
   ]
  },
  {
   "cell_type": "code",
   "execution_count": 14,
   "id": "245dece5",
   "metadata": {},
   "outputs": [
    {
     "name": "stdout",
     "output_type": "stream",
     "text": [
      "Enter a number: 153\n"
     ]
    },
    {
     "ename": "TypeError",
     "evalue": "'int' object is not callable",
     "output_type": "error",
     "traceback": [
      "\u001b[1;31m---------------------------------------------------------------------------\u001b[0m",
      "\u001b[1;31mTypeError\u001b[0m                                 Traceback (most recent call last)",
      "Cell \u001b[1;32mIn[14], line 16\u001b[0m\n\u001b[0;32m     12\u001b[0m         \u001b[38;5;28;01mreturn\u001b[39;00m \u001b[38;5;28;01mFalse\u001b[39;00m\n\u001b[0;32m     15\u001b[0m number \u001b[38;5;241m=\u001b[39m \u001b[38;5;28mint\u001b[39m(\u001b[38;5;28minput\u001b[39m(\u001b[38;5;124m\"\u001b[39m\u001b[38;5;124mEnter a number: \u001b[39m\u001b[38;5;124m\"\u001b[39m))\n\u001b[1;32m---> 16\u001b[0m \u001b[38;5;28;01mif\u001b[39;00m \u001b[43mis_armstrong_number\u001b[49m\u001b[43m(\u001b[49m\u001b[43mnumber\u001b[49m\u001b[43m)\u001b[49m:\n\u001b[0;32m     17\u001b[0m     \u001b[38;5;28mprint\u001b[39m(number, \u001b[38;5;124m\"\u001b[39m\u001b[38;5;124mis an Armstrong number.\u001b[39m\u001b[38;5;124m\"\u001b[39m)\n\u001b[0;32m     18\u001b[0m \u001b[38;5;28;01melse\u001b[39;00m:\n",
      "Cell \u001b[1;32mIn[14], line 6\u001b[0m, in \u001b[0;36mis_armstrong_number\u001b[1;34m(number)\u001b[0m\n\u001b[0;32m      2\u001b[0m number_str \u001b[38;5;241m=\u001b[39m \u001b[38;5;28mstr\u001b[39m(number)\n\u001b[0;32m      4\u001b[0m num_digits \u001b[38;5;241m=\u001b[39m \u001b[38;5;28mlen\u001b[39m(number_str)\n\u001b[1;32m----> 6\u001b[0m sum_of_powers \u001b[38;5;241m=\u001b[39m \u001b[38;5;28;43msum\u001b[39;49m\u001b[43m(\u001b[49m\u001b[38;5;28;43mint\u001b[39;49m\u001b[43m(\u001b[49m\u001b[43mdigit\u001b[49m\u001b[43m)\u001b[49m\u001b[43m \u001b[49m\u001b[38;5;241;43m*\u001b[39;49m\u001b[38;5;241;43m*\u001b[39;49m\u001b[43m \u001b[49m\u001b[43mnum_digits\u001b[49m\u001b[43m \u001b[49m\u001b[38;5;28;43;01mfor\u001b[39;49;00m\u001b[43m \u001b[49m\u001b[43mdigit\u001b[49m\u001b[43m \u001b[49m\u001b[38;5;129;43;01min\u001b[39;49;00m\u001b[43m \u001b[49m\u001b[43mnumber_str\u001b[49m\u001b[43m)\u001b[49m\n\u001b[0;32m      9\u001b[0m \u001b[38;5;28;01mif\u001b[39;00m sum_of_powers \u001b[38;5;241m==\u001b[39m number:\n\u001b[0;32m     10\u001b[0m     \u001b[38;5;28;01mreturn\u001b[39;00m \u001b[38;5;28;01mTrue\u001b[39;00m\n",
      "\u001b[1;31mTypeError\u001b[0m: 'int' object is not callable"
     ]
    }
   ],
   "source": [
    "def is_armstrong_number(number):\n",
    "    number_str = str(number)\n",
    "\n",
    "    num_digits = len(number_str)\n",
    "\n",
    "    sum_of_powers = sum(int(digit) ** num_digits for digit in number_str)\n",
    "    \n",
    "\n",
    "    if sum_of_powers == number:\n",
    "        return True\n",
    "    else:\n",
    "        return False\n",
    "\n",
    "\n",
    "number = int(input(\"Enter a number: \"))\n",
    "if is_armstrong_number(number):\n",
    "    print(number, \"is an Armstrong number.\")\n",
    "else:\n",
    "    print(number, \"is not an Armstrong number.\")\n"
   ]
  },
  {
   "cell_type": "markdown",
   "id": "3a8b3986",
   "metadata": {},
   "source": [
    "Q4. Python Program to Print the Fibonacci sequence "
   ]
  },
  {
   "cell_type": "code",
   "execution_count": 12,
   "id": "5bdf5da8",
   "metadata": {},
   "outputs": [
    {
     "name": "stdout",
     "output_type": "stream",
     "text": [
      "enter the number of terms in the fibonacci sequence: 5\n",
      "0\n",
      "1\n",
      "1\n",
      "2\n",
      "3\n"
     ]
    }
   ],
   "source": [
    "def fibonacci_sequence(n):\n",
    "    sequence = [0,1]\n",
    "    for i in range(2,n):\n",
    "        next_term = sequence[i-1] + sequence[i-2]\n",
    "        sequence.append(next_term)\n",
    "    return sequence\n",
    "\n",
    "\n",
    "n = int(input(\"enter the number of terms in the fibonacci sequence: \"))\n",
    "fib_sequence = fibonacci_sequence(n)\n",
    "for term in fib_sequence:\n",
    "    print(term)\n"
   ]
  },
  {
   "cell_type": "code",
   "execution_count": 13,
   "id": "09835987",
   "metadata": {},
   "outputs": [
    {
     "name": "stdout",
     "output_type": "stream",
     "text": [
      "Enter a number: 4\n",
      "Factorial of 4 is 24\n"
     ]
    }
   ],
   "source": [
    "def factorial(n):\n",
    "   \n",
    "    if n == 0:\n",
    "        return 1\n",
    "\n",
    "    \n",
    "    factorial = 1\n",
    "\n",
    "    \n",
    "    for i in range(1, n + 1):\n",
    "        factorial *= i\n",
    "\n",
    "    return factorial\n",
    "\n",
    "\n",
    "number = int(input(\"Enter a number: \"))\n",
    "result = factorial(number)\n",
    "print(\"Factorial of\", number, \"is\", result)"
   ]
  },
  {
   "cell_type": "code",
   "execution_count": 20,
   "id": "06c6d118",
   "metadata": {},
   "outputs": [
    {
     "name": "stdout",
     "output_type": "stream",
     "text": [
      "enter a number999\n",
      "not an armstrong number\n"
     ]
    }
   ],
   "source": [
    "n = int(input(\"enter a number\"))\n",
    "num = n\n",
    "c = len(str(n))\n",
    "s = 0\n",
    "p = 0\n",
    "while n > 0:\n",
    "    a = n % 10 \n",
    "    s = s + a**c\n",
    "    n = n // 10\n",
    "if(num == s):  \n",
    "    print(\"armstrong\")\n",
    "else:\n",
    "    print(\"not an armstrong number\")"
   ]
  },
  {
   "cell_type": "code",
   "execution_count": 1,
   "id": "69368c16",
   "metadata": {},
   "outputs": [
    {
     "name": "stdout",
     "output_type": "stream",
     "text": [
      " multiplication table of 3 \n",
      "\n",
      "0 * 3 = 0\n",
      "1 * 3 = 3\n",
      "2 * 3 = 6\n",
      "3 * 3 = 9\n",
      "4 * 3 = 12\n",
      "5 * 3 = 15\n",
      "6 * 3 = 18\n",
      "7 * 3 = 21\n",
      "8 * 3 = 24\n",
      "9 * 3 = 27\n",
      "10 * 3 = 30\n",
      "multipliction table of 5\n",
      "0 * 5 = 0\n",
      "1 * 5 = 5\n",
      "2 * 5 = 10\n",
      "3 * 5 = 15\n",
      "4 * 5 = 20\n",
      "5 * 5 = 25\n",
      "6 * 5 = 30\n",
      "7 * 5 = 35\n",
      "8 * 5 = 40\n",
      "9 * 5 = 45\n",
      "10 * 5 = 50\n"
     ]
    }
   ],
   "source": [
    "import time\n",
    "n=11\n",
    "print(\" multiplication table of 3 \\n\")\n",
    "for i in range (n):\n",
    "    print(f\"{i} * {3} = {i*3}\")\n",
    "time.sleep(4)\n",
    "print(\"multipliction table of 5\")\n",
    "for i in range (n):\n",
    "    print(f\"{i} * {5} = {i*5}\")"
   ]
  },
  {
   "cell_type": "code",
   "execution_count": null,
   "id": "b89ce36e",
   "metadata": {},
   "outputs": [],
   "source": []
  }
 ],
 "metadata": {
  "kernelspec": {
   "display_name": "Python 3 (ipykernel)",
   "language": "python",
   "name": "python3"
  },
  "language_info": {
   "codemirror_mode": {
    "name": "ipython",
    "version": 3
   },
   "file_extension": ".py",
   "mimetype": "text/x-python",
   "name": "python",
   "nbconvert_exporter": "python",
   "pygments_lexer": "ipython3",
   "version": "3.10.9"
  }
 },
 "nbformat": 4,
 "nbformat_minor": 5
}
