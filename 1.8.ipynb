{
 "cells": [
  {
   "cell_type": "markdown",
   "id": "d275781d",
   "metadata": {},
   "source": [
    "Q1.What are the two values of the Boolean data type? How do you write them? \n",
    "ans - the two values of Boolean data type is true and false."
   ]
  },
  {
   "cell_type": "markdown",
   "id": "6332e1e0",
   "metadata": {},
   "source": [
    "Q2.What are the three Boolean operators? \n",
    "ans - the three Boolean operators are and, or and not(!)"
   ]
  },
  {
   "cell_type": "markdown",
   "id": "16b39d6d",
   "metadata": {},
   "source": [
    "Q3.Write out the truth tables of each Boolean operator (that is, every possible combination of Boolean values for \n",
    "the operator and what they evaluate to). \n",
    "ans- (i)Truth table for and operator\n",
    "| Operand 1 | Operand 2 | Result |\n",
    "|-----------|-----------|--------|\n",
    "|   true    |   true    |  true  |\n",
    "|   true    |   false   |  false |\n",
    "|   false   |   true    |  false |\n",
    "|   false   |   false   |  false |\n",
    "(ii) Truth table for or operator\n",
    "| Operand 1 | Operand 2 | Result |\n",
    "|-----------|-----------|--------|\n",
    "|   true    |   true    |  true  |\n",
    "|   true    |   false   |  false |\n",
    "|   false   |   true    |  false |\n",
    "|   false   |   false   |  false |\n",
    "(iii) Truth table for ! operator\n",
    "| Operand | Result |\n",
    "|---------|--------|\n",
    "|  true   | false  |\n",
    "|  false  | true   |\n"
   ]
  },
  {
   "cell_type": "markdown",
   "id": "99a17d74",
   "metadata": {},
   "source": [
    "Q4. What do the following expressions evaluate to? \n",
    "\n",
    "(5 > 4) and (3 == 5) \n",
    "\n",
    "not (5 > 4) \n",
    "\n",
    "(5 > 4) or (3 == 5) \n",
    "\n",
    "not ((5 > 4) or (3 == 5)) \n",
    "\n",
    "(True and True) and (True == False) \n",
    "\n",
    "(not False) or (not True) \n",
    "ans-(a) True\n",
    "(b)false\n",
    "(c)true\n",
    "(d)true\n",
    "(e)true"
   ]
  },
  {
   "cell_type": "markdown",
   "id": "4f1ab6fc",
   "metadata": {},
   "source": [
    "Q5.What are the six comparison operators?\t\n",
    "ans - ==(equal to operator), !=(not equal to operator), >(greater than operator), <(less than operator), >=(greater than equal to), <=(less than equal to)"
   ]
  },
  {
   "cell_type": "markdown",
   "id": "d753913f",
   "metadata": {},
   "source": [
    "Q6. What is the difference between the equal to operator and the assignment operator? \n",
    "ans - (i)Equal to operator (==): The equal to operator is used for comparison in conditional statements or expressions. It checks if two values are equal and returns a Boolean value (true or false) indicating the result of the comparison.\n",
    "(ii) Assignment operator (=): The assignment operator is used to assign a value to a variable. It assigns the value on the right side of the operator to the variable on the left side. "
   ]
  },
  {
   "cell_type": "markdown",
   "id": "f308069b",
   "metadata": {},
   "source": [
    "Q7.Explain what a condition is and where you would use one. \n",
    "ans - a condition refers to a logical statement or expression that evaluates to either true or false. It is used to make decisions and control the flow of a program based on certain criteria."
   ]
  }
 ],
 "metadata": {
  "kernelspec": {
   "display_name": "Python 3 (ipykernel)",
   "language": "python",
   "name": "python3"
  },
  "language_info": {
   "codemirror_mode": {
    "name": "ipython",
    "version": 3
   },
   "file_extension": ".py",
   "mimetype": "text/x-python",
   "name": "python",
   "nbconvert_exporter": "python",
   "pygments_lexer": "ipython3",
   "version": "3.10.9"
  }
 },
 "nbformat": 4,
 "nbformat_minor": 5
}
