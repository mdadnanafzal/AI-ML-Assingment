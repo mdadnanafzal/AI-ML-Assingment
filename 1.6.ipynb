{
 "cells": [
  {
   "cell_type": "markdown",
   "id": "3b5e31a7",
   "metadata": {},
   "source": [
    "##### What is duck typing in python, what are Dunder or special methods?  "
   ]
  },
  {
   "cell_type": "markdown",
   "id": "20c2a840",
   "metadata": {},
   "source": [
    "Python is a duck typing language. It means the data types of variables can change as long as the syntax is compatible\n",
    "\n",
    "dunder methods are methods that allow instances of a class to interact with the built-in functions and operators of the language. The word “dunder” comes from “double underscore”, because the names of dunder methods start and end with two underscores, for example __str__ or __add__ "
   ]
  },
  {
   "cell_type": "markdown",
   "id": "ed5c7ef3",
   "metadata": {},
   "source": [
    "#####  What are operators? How many types of operators are there in python? "
   ]
  },
  {
   "cell_type": "markdown",
   "id": "ea8bb646",
   "metadata": {},
   "source": [
    "operators are the constructs which can manipulate the value of operands. These are symbols used for the purpose of logical, arithmetic and various other operations.\n",
    "\n",
    "In Python, there are seven different types of operators: arithmetic operators, assignment operators, comparison operators, logical operators, identity operators, membership operators, and boolean operators."
   ]
  },
  {
   "cell_type": "code",
   "execution_count": null,
   "id": "26b7ca4f",
   "metadata": {},
   "outputs": [],
   "source": []
  }
 ],
 "metadata": {
  "kernelspec": {
   "display_name": "Python 3 (ipykernel)",
   "language": "python",
   "name": "python3"
  },
  "language_info": {
   "codemirror_mode": {
    "name": "ipython",
    "version": 3
   },
   "file_extension": ".py",
   "mimetype": "text/x-python",
   "name": "python",
   "nbconvert_exporter": "python",
   "pygments_lexer": "ipython3",
   "version": "3.10.9"
  }
 },
 "nbformat": 4,
 "nbformat_minor": 5
}
