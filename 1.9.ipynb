{
 "cells": [
  {
   "cell_type": "markdown",
   "id": "dcc49f2d",
   "metadata": {},
   "source": [
    "Q1.Write a Python program to check whether a number is negative, positive or zero. "
   ]
  },
  {
   "cell_type": "code",
   "execution_count": 3,
   "id": "2053b6b6",
   "metadata": {},
   "outputs": [
    {
     "name": "stdout",
     "output_type": "stream",
     "text": [
      "enter an integer-12\n",
      "negative number\n"
     ]
    }
   ],
   "source": [
    "a = int(input(\"enter an integer\"))\n",
    "if a > 0 :\n",
    "    print(\"positive number\")\n",
    "elif a < 0:\n",
    "    print(\"negative number\")\n",
    "else:\n",
    "    print(\"zero\")"
   ]
  },
  {
   "cell_type": "markdown",
   "id": "00f5c1c3",
   "metadata": {},
   "source": [
    "Q2.Write a Python program to check whether a number is divisible by 5 and 11 or not. "
   ]
  },
  {
   "cell_type": "code",
   "execution_count": 1,
   "id": "96336c24",
   "metadata": {},
   "outputs": [
    {
     "name": "stdout",
     "output_type": "stream",
     "text": [
      "Enter a number: 15\n",
      "15 is not divisible by both 5 and 11\n"
     ]
    }
   ],
   "source": [
    "def check_divisibility(num):\n",
    "    if num % 5 == 0 and num % 11 == 0:\n",
    "        print(num, \"is divisible by both 5 and 11\")\n",
    "    else:\n",
    "        print(num, \"is not divisible by both 5 and 11\")\n",
    "\n",
    "\n",
    "number = int(input(\"Enter a number: \"))\n",
    "check_divisibility(number)\n"
   ]
  },
  {
   "cell_type": "markdown",
   "id": "659dab64",
   "metadata": {},
   "source": [
    "Q3.Write a Python program to check whether a year is leap year or not. "
   ]
  },
  {
   "cell_type": "code",
   "execution_count": 7,
   "id": "6e7429f6",
   "metadata": {},
   "outputs": [
    {
     "name": "stdout",
     "output_type": "stream",
     "text": [
      "enter the year to be checked2006\n",
      "entered year si not a leap year\n"
     ]
    }
   ],
   "source": [
    "def leap_year(year):\n",
    "    if year % 4 == 0:\n",
    "        if year % 100:\n",
    "            if year % 400:\n",
    "                return True\n",
    "            else:\n",
    "                return False\n",
    "        else:\n",
    "            return False\n",
    "    else:\n",
    "        return False\n",
    "\n",
    "\n",
    "year = int(input(\"enter the year to be checked\"))\n",
    "if leap_year(year):\n",
    "    print(\"entered year is leap year\")\n",
    "else:\n",
    "    print(\"entered year is not a leap year\")\n"
   ]
  },
  {
   "cell_type": "markdown",
   "id": "8778ff5f",
   "metadata": {},
   "source": [
    "Q4.Write a Python program to check whether a character is alphabet or not. "
   ]
  },
  {
   "cell_type": "code",
   "execution_count": 2,
   "id": "dbc467e5",
   "metadata": {},
   "outputs": [
    {
     "name": "stdout",
     "output_type": "stream",
     "text": [
      "entera\n",
      "alphabet\n"
     ]
    }
   ],
   "source": [
    "n=input(\"enter: \")\n",
    "if n>='a' and n<='z':\n",
    "    print(\"alphabet\")\n",
    "elif n>= 'A' and n<='Z':\n",
    "    print(\"alphabet\")\n",
    "else:\n",
    "    print(\"not alphabet\")"
   ]
  },
  {
   "cell_type": "markdown",
   "id": "531b7421",
   "metadata": {},
   "source": [
    "Q5.Write a Python program to input any alphabet and check whether it is vowel or consonant. "
   ]
  },
  {
   "cell_type": "code",
   "execution_count": 12,
   "id": "bee53ce8",
   "metadata": {},
   "outputs": [
    {
     "name": "stdout",
     "output_type": "stream",
     "text": [
      "enter a string: e\n",
      "vowel\n"
     ]
    }
   ],
   "source": [
    "a = input(\"enter a string: \")\n",
    "if a == 'a' or a == 'e' or a == 'i' or a== 'o' or a =='u':\n",
    "    print(\"vowel\")\n",
    "else:\n",
    "    print(\"consonant\")"
   ]
  },
  {
   "cell_type": "markdown",
   "id": "47f50824",
   "metadata": {},
   "source": [
    "Q6.Write a Python program to input any character and check whether it is alphabet, digit or special character. "
   ]
  },
  {
   "cell_type": "code",
   "execution_count": 3,
   "id": "0f95b836",
   "metadata": {},
   "outputs": [
    {
     "name": "stdout",
     "output_type": "stream",
     "text": [
      "Enter a character: v\n",
      "v is an alphabet.\n"
     ]
    }
   ],
   "source": [
    "def check_character_type(char):\n",
    "    if char.isalpha():\n",
    "        print(char, \"is an alphabet.\")\n",
    "    elif char.isdigit():\n",
    "        print(char, \"is a digit.\")\n",
    "    else:\n",
    "        print(char, \"is a special character.\")\n",
    "\n",
    "\n",
    "character = input(\"Enter a character: \")\n",
    "check_character_type(character)\n"
   ]
  },
  {
   "cell_type": "markdown",
   "id": "12b1be3b",
   "metadata": {},
   "source": [
    "Q7.Write a Python program to check whether a character is uppercase or lowercase alphabet. "
   ]
  },
  {
   "cell_type": "code",
   "execution_count": 19,
   "id": "8e691229",
   "metadata": {},
   "outputs": [
    {
     "name": "stdout",
     "output_type": "stream",
     "text": [
      "enter a character to be checked: a\n",
      "lower case letter\n"
     ]
    }
   ],
   "source": [
    "a = input(\"enter a character to be checked: \")\n",
    "if a.islower():\n",
    "    print(\"lower case letter\")\n",
    "else:\n",
    "    print(\"upper case letter\")"
   ]
  },
  {
   "cell_type": "markdown",
   "id": "27330abd",
   "metadata": {},
   "source": [
    "Q8.Write a Python program to input week number and print weekday. "
   ]
  },
  {
   "cell_type": "code",
   "execution_count": null,
   "id": "2b11cd3c",
   "metadata": {},
   "outputs": [],
   "source": [
    "weekday = int(input(\"Enter weekday number between 1 to 7 : \"))\n",
    "\n",
    "if weekday == 1 :\n",
    "    print(\"\\n Monday\");\n",
    "\n",
    "elif weekday == 2 :\n",
    "    print(\"\\n Tuesday\")\n",
    "\n",
    "elif(weekday == 3) :\n",
    "    print(\"\\n Wednesday\")\n",
    "\n",
    "elif(weekday == 4) :\n",
    "    print(\"\\n Thursday\")\n",
    "\n",
    "elif(weekday == 5) :\n",
    "    print(\"\\n Friday\")\n",
    "\n",
    "elif(weekday == 6) :\n",
    "    print(\"\\n Saturday\")\n",
    "\n",
    "elif (weekday == 7) :\n",
    "    print(\"\\n Sunday\")\n",
    "\n",
    "else :\n",
    "    print(\"\\n invalid\")"
   ]
  },
  {
   "cell_type": "markdown",
   "id": "eb712730",
   "metadata": {},
   "source": [
    "Q9.Write a Python program to input angles of a triangle and check whether triangle is valid or not. "
   ]
  },
  {
   "cell_type": "code",
   "execution_count": 21,
   "id": "f1623203",
   "metadata": {},
   "outputs": [
    {
     "name": "stdout",
     "output_type": "stream",
     "text": [
      "enter first angle: 60 \n",
      "enter second angle: 60 \n",
      "enter third angle: 60 \n",
      "given triangle is valid traingle\n"
     ]
    }
   ],
   "source": [
    "a1 = int(input(\"enter first angle: \"))\n",
    "a2 = int(input(\"enter second angle: \"))\n",
    "a3 = int(input(\"enter third angle: \"))\n",
    "if a1 + a2 + a3 == 180:\n",
    "    print(\"Given triangle is valid traingle\")\n",
    "else:\n",
    "    print(\"Given triangle is not a valid triangle\")"
   ]
  },
  {
   "cell_type": "markdown",
   "id": "e97be77b",
   "metadata": {},
   "source": [
    "Q10.Write a Python program to input all sides of a triangle and check whether triangle is valid or not. "
   ]
  },
  {
   "cell_type": "code",
   "execution_count": null,
   "id": "8c8aafdf",
   "metadata": {},
   "outputs": [],
   "source": [
    "a=int(input(\"enter\"))\n",
    "b=int(input(\"enter\"))\n",
    "c=int(input(\"enter\"))\n",
    "\n",
    "if a+b <= c or b+c <= a or c+a <= b :\n",
    "    print(\"valid triangle\")\n",
    "else:\n",
    "    print(\"invalid\")"
   ]
  },
  {
   "cell_type": "markdown",
   "id": "c95509a0",
   "metadata": {},
   "source": [
    "Q11.Write a Python program to check whether the triangle is equilateral, isosceles or scalene triangle. "
   ]
  },
  {
   "cell_type": "code",
   "execution_count": 25,
   "id": "de668054",
   "metadata": {},
   "outputs": [
    {
     "name": "stdout",
     "output_type": "stream",
     "text": [
      "enter first angle: 30 \n",
      "enter second angle: 30 \n",
      "enter third angle: 120\n",
      "isoceles triangle\n"
     ]
    }
   ],
   "source": [
    "a1 = int(input(\"enter first angle: \"))\n",
    "a2 = int(input(\"enter second angle: \"))\n",
    "a3 = int(input(\"enter third angle: \"))\n",
    "if a1 == a2 == a3:\n",
    "    print(\"Equilateral traingle\")\n",
    "elif a1 == a2 or a2 == a3 or a1 == a3:\n",
    "    print(\"isoceles triangle\")\n",
    "else:    \n",
    "    print(\"scalene triangle\")"
   ]
  },
  {
   "cell_type": "markdown",
   "id": "6379e8d3",
   "metadata": {},
   "source": [
    "Q12.Write a Python program to input marks of five subjects Physics, Chemistry, Biology, Mathematics and Computer. Calculate percentage and grade according to following:  \n",
    "\n",
    "                   Percentage >= 90% : Grade A \n",
    "\n",
    "                   Percentage >= 80% : Grade B  \n",
    "\n",
    "                   Percentage >= 70% : Grade C  \n",
    "\n",
    "                               Percentage >= 60% : Grade D  \n",
    "\n",
    "                               Percentage >= 40% : Grade E  \n",
    "\n",
    "                               Percentage < 40% : Grade F "
   ]
  },
  {
   "cell_type": "code",
   "execution_count": null,
   "id": "454dd802",
   "metadata": {},
   "outputs": [],
   "source": [
    "n=5\n",
    "sub =[]\n",
    "for i in range (n):\n",
    "    x=int(input(\"enter marks out of 100 \"))\n",
    "    sub.append(x)\n",
    "print(sub)\n",
    "p=0\n",
    "for i in range (n):\n",
    "    p+=sub[i]\n",
    "p=(p/500)*100\n",
    "if p>=90:\n",
    "    print(\"grade A\")\n",
    "elif p>=80 and p<=90:\n",
    "    print(\" grade B \")\n",
    "elif p>=70 and p<=80:\n",
    "    print(\"grade c \")\n",
    "elif p>=60 and p<=70:\n",
    "    print(\"grade D \")\n",
    "elif p>=40 and p<=60:\n",
    "    print(\"grade E \")\n",
    "elif p<40:\n",
    "    print(\"grade F\""
   ]
  },
  {
   "cell_type": "markdown",
   "id": "7ceaf792",
   "metadata": {},
   "source": [
    "Q13.Write a Python program to input basic salary of an employee and calculate its Gross salary according to following:  \n",
    "\n",
    "                Basic Salary <= 10000 : HRA = 20%, DA = 80%  \n",
    "\n",
    "                Basic Salary <= 20000 : HRA = 25%, DA = 90%  \n",
    "\n",
    "                Basic Salary > 20000 : HRA = 30%, DA = 95%"
   ]
  },
  {
   "cell_type": "code",
   "execution_count": 29,
   "id": "d2cde5b8",
   "metadata": {},
   "outputs": [
    {
     "name": "stdout",
     "output_type": "stream",
     "text": [
      "enter the basic salary of the employee: 10000\n",
      "gross salary:  21500.0\n"
     ]
    }
   ],
   "source": [
    "def gross_salary(basic_salary):\n",
    "    if basic_salary < 10000:\n",
    "        hra = 0.2*basic_salary\n",
    "        da = 0.8*basic-salary\n",
    "    elif basic_salary <= 20000:\n",
    "        hra = 0.25*basic_salary\n",
    "        da = 0.9*basic_salary\n",
    "    else:\n",
    "        hra = 0.3*basic_salary\n",
    "        da = 0.95*basic_salary\n",
    "    gross_salary = basic_salary + hra +da\n",
    "    return gross_salary\n",
    "\n",
    "basic_salary = float(input(\"enter the basic salary of the employee: \"))\n",
    "gross_salary = gross_salary(basic_salary)\n",
    "print(\"gross salary: \", gross_salary)"
   ]
  },
  {
   "cell_type": "markdown",
   "id": "1fb1d804",
   "metadata": {},
   "source": [
    "Q14. Write a Python Program to input electricity unit charges and calculate total electricity bill according to the given condition:  \n",
    "\n",
    "For first 50 units Rs. 0.50/unit \n",
    "For next 100 units Rs. 0.75/unit \n",
    "For next 100 units Rs. 1.20/unit \n",
    "For unit above 250 Rs. 1.50/unit \n",
    "An additional surcharge of 20% is added to the bill \n",
    "\n",
    " "
   ]
  },
  {
   "cell_type": "code",
   "execution_count": 4,
   "id": "026c0eae",
   "metadata": {},
   "outputs": [
    {
     "name": "stdout",
     "output_type": "stream",
     "text": [
      "enter electricity bill in units: 45\n",
      "electricity bill is:  247.5\n"
     ]
    }
   ],
   "source": [
    "unit = int(input(\"enter electricity bill in units: \"))\n",
    "if 0 < unit <= 50:\n",
    "    print(\"electricity bill is: \", (unit*0.50+(unit/20)*100))\n",
    "elif 51 < unit <= 100:\n",
    "    print(\"electricity bill is: \", (unit*0.75+(unit/20)*100))\n",
    "elif 101 < unit <= 249:\n",
    "    print(\"electricity bill is: \", (unit*1.20+(unit/20)*100))\n",
    "elif unit >= 250:\n",
    "    print(\"electricity bill is:\", (unit*1.50+(unit/20)*100))"
   ]
  }
 ],
 "metadata": {
  "kernelspec": {
   "display_name": "Python 3 (ipykernel)",
   "language": "python",
   "name": "python3"
  },
  "language_info": {
   "codemirror_mode": {
    "name": "ipython",
    "version": 3
   },
   "file_extension": ".py",
   "mimetype": "text/x-python",
   "name": "python",
   "nbconvert_exporter": "python",
   "pygments_lexer": "ipython3",
   "version": "3.10.9"
  }
 },
 "nbformat": 4,
 "nbformat_minor": 5
}
