{
 "cells": [
  {
   "cell_type": "markdown",
   "id": "19f76df3",
   "metadata": {},
   "source": [
    "What is difference between shallow copy and deep copy? \n",
    "\n",
    "Shallow copy:\n",
    "A shallow copy creates a new object but references the same memory locations as the original object.\n",
    "Modifying the copied object will also affect the original object.\n",
    "\n",
    "Deep copy:\n",
    "A deep copy creates a completely independent copy of the original object with its own memory locations.\n",
    "Modifying the copied object does not affect the original object."
   ]
  },
  {
   "cell_type": "code",
   "execution_count": null,
   "id": "430a4822",
   "metadata": {},
   "outputs": [],
   "source": [
    "books = [\n",
    "    {\n",
    "        'title':'the great gatsby',\n",
    "        'author':'f. Scott Fitzgerald',\n",
    "        'year':1925,\n",
    "        'isbn':'1A2B#c#'\n",
    "        'available':True\n",
    "    },\n",
    "      {\n",
    "        'title':'Moking Bird',\n",
    "        'author':'Haper Lee',\n",
    "        'year':1960,\n",
    "        'isbn':'9A2D#c#'\n",
    "        'available':True\n",
    "    }\n",
    "       {\n",
    "        'title:'it end with us',\n",
    "        'author':'Collen Hover',\n",
    "        'year':2000,\n",
    "        'isbn':'145D#D#'\n",
    "        'available':True\n",
    "    }\n",
    "]\n",
    "\n",
    "students = [\n",
    "    {\n",
    "    'name':'Adnan Afzal',\n",
    "    'student id':2128026,\n",
    "    'books borrowed':'it end with us',\n",
    "    }\n",
    "    {\n",
    "    'name':'xyz',\n",
    "    'student id':2128726,\n",
    "    'books borrowed':'mocking bird',\n",
    "    }\n",
    "]"
   ]
  },
  {
   "cell_type": "markdown",
   "id": "e9f88d0e",
   "metadata": {},
   "source": [
    "This chapter introduced assignment statements, like spam = 10. What is the difference between an expression and a statement?\n",
    "\n",
    "expression:\n",
    "An expression is a combination of values, variables, operators, and function calls that can be evaluated to produce a result.\n",
    "Expressions always have a value, and that value can be assigned to a variable or used as part of a larger expression.\n",
    "Examples of expressions include 2 + 3, x * y, len(my_list), and True.\n",
    "\n",
    "statement:\n",
    "A statement is a complete unit of code that performs an action or operation.\n",
    "Statements can include assignments, function calls, loops, conditionals, and more.\n",
    "Statements do not produce a value themselves; instead, they carry out some action or control the flow of execution.\n",
    "Examples of statements include variable assignments like x = 5, function calls like print('Hello'), and control flow statements like if, for, and while loops."
   ]
  },
  {
   "cell_type": "markdown",
   "id": "3913fa1e",
   "metadata": {},
   "source": [
    "Define following:\n",
    "(a)Atomic data types / Primary data types \n",
    "(b)Secondary data type / User Defined Data Type\n",
    "\n",
    "Atomic data types / Primary data types:\n",
    "Are the fundamental data types they cannot be furthur divided into another data types, exa: int, float, boolean\n",
    "Secondary data type / User Defined Data Type:\n",
    "are the derived data types and they are derived using atomic data type, exa:string, array, list"
   ]
  },
  {
   "cell_type": "markdown",
   "id": "d3827d85",
   "metadata": {},
   "source": [
    "What is UDF? \n",
    "\n",
    "UDf is user defined function.It refers to the a funciton that is defined by the user or programmer rather than being built-in or provided by the programming language itself.\n",
    "\n",
    "exa:\n",
    "def sum(x,y):\n",
    "    return x+y\n"
   ]
  }
 ],
 "metadata": {
  "kernelspec": {
   "display_name": "Python 3 (ipykernel)",
   "language": "python",
   "name": "python3"
  },
  "language_info": {
   "codemirror_mode": {
    "name": "ipython",
    "version": 3
   },
   "file_extension": ".py",
   "mimetype": "text/x-python",
   "name": "python",
   "nbconvert_exporter": "python",
   "pygments_lexer": "ipython3",
   "version": "3.10.9"
  }
 },
 "nbformat": 4,
 "nbformat_minor": 5
}
