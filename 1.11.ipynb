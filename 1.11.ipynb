{
 "cells": [
  {
   "cell_type": "markdown",
   "id": "1015189c",
   "metadata": {},
   "source": [
    "Q2(n)"
   ]
  },
  {
   "cell_type": "code",
   "execution_count": 9,
   "id": "9a6e95c5",
   "metadata": {},
   "outputs": [
    {
     "name": "stdout",
     "output_type": "stream",
     "text": [
      "         *          \n",
      "        *  *        \n",
      "      *  *  *       \n",
      "     *  *  *  *     \n",
      "   *  *  *  *  *    \n"
     ]
    }
   ],
   "source": [
    "b = \" * \"\n",
    "for i in range(1,6):\n",
    "    print((b*i).center(20))"
   ]
  },
  {
   "cell_type": "markdown",
   "id": "931a52e9",
   "metadata": {},
   "source": [
    "Q2(o)"
   ]
  },
  {
   "cell_type": "code",
   "execution_count": 44,
   "id": "84e6c116",
   "metadata": {},
   "outputs": [
    {
     "name": "stdout",
     "output_type": "stream",
     "text": [
      "          1  \n",
      "        1    2  \n",
      "      1    2    3  \n",
      "    1    2    3    4  \n",
      "  1    2    3    4    5  \n"
     ]
    }
   ],
   "source": [
    "row  = 5\n",
    "for i in range(1, row+1):\n",
    "    for j in range(row-i):\n",
    "        print(\"  \", end=\"\")\n",
    "    for k in range(1, i+1):\n",
    "        print(str(k).center(5),end=\"\")\n",
    "    print()  "
   ]
  },
  {
   "cell_type": "markdown",
   "id": "399fc5ab",
   "metadata": {},
   "source": [
    "Q2(p)"
   ]
  },
  {
   "cell_type": "code",
   "execution_count": 11,
   "id": "dc7311aa",
   "metadata": {},
   "outputs": [
    {
     "name": "stdout",
     "output_type": "stream",
     "text": [
      "    *\n",
      "   **\n",
      "  ***\n",
      " ****\n",
      "*****\n"
     ]
    }
   ],
   "source": [
    "b = \"*\"\n",
    "for i in range(1,6):\n",
    "    print((b*i).rjust(5))"
   ]
  },
  {
   "cell_type": "code",
   "execution_count": null,
   "id": "7a5ffce7",
   "metadata": {},
   "outputs": [],
   "source": [
    "Q2(t)"
   ]
  },
  {
   "cell_type": "code",
   "execution_count": 25,
   "id": "8d758ac5",
   "metadata": {},
   "outputs": [
    {
     "name": "stdout",
     "output_type": "stream",
     "text": [
      "    1\n",
      "   123\n",
      "  12345\n",
      " 1234567\n",
      "123456789\n"
     ]
    }
   ],
   "source": [
    "row  = 5\n",
    "for i in range(1, row+1):\n",
    "    for j in range(row-i):\n",
    "        print(\" \", end=\"\")\n",
    "    for k in range(1, 2*i):\n",
    "        print(k, end=\"\")\n",
    "    print()    "
   ]
  },
  {
   "cell_type": "markdown",
   "id": "f7a46e2c",
   "metadata": {},
   "source": [
    "Q2(q)"
   ]
  },
  {
   "cell_type": "code",
   "execution_count": 19,
   "id": "4b38c5bc",
   "metadata": {},
   "outputs": [
    {
     "name": "stdout",
     "output_type": "stream",
     "text": [
      "Enter number of rows: 5\n",
      "1\n",
      "12\n",
      "123\n",
      "1234\n",
      "12345\n"
     ]
    }
   ],
   "source": [
    "n = int(input(\"Enter number of rows: \"))\n",
    "\n",
    "for i in range(1,n+1):\n",
    "    for j in range(1, i+1):\n",
    "        print(j, end=\"\")\n",
    "    print()"
   ]
  },
  {
   "cell_type": "code",
   "execution_count": null,
   "id": "92284b02",
   "metadata": {},
   "outputs": [],
   "source": [
    "Q"
   ]
  },
  {
   "cell_type": "code",
   "execution_count": 54,
   "id": "189692e7",
   "metadata": {},
   "outputs": [
    {
     "name": "stdout",
     "output_type": "stream",
     "text": [
      "    1\n",
      "   123\n",
      "  12345\n",
      " 1234567\n",
      "123456789\n"
     ]
    }
   ],
   "source": [
    "row  = 5\n",
    "for i in range(1, row+1):\n",
    "    for j in range(row-i):\n",
    "        print(\" \", end=\"\")\n",
    "    for k in range(1, 2*i):\n",
    "        print(k, end=\"\")\n",
    "    print() "
   ]
  },
  {
   "cell_type": "markdown",
   "id": "c33396e0",
   "metadata": {},
   "source": [
    "Q(r)"
   ]
  },
  {
   "cell_type": "code",
   "execution_count": 63,
   "id": "5c1fa096",
   "metadata": {},
   "outputs": [
    {
     "name": "stdout",
     "output_type": "stream",
     "text": [
      "    *\n",
      "   ***\n",
      "  *****\n",
      " *******\n",
      "*********\n"
     ]
    }
   ],
   "source": [
    "n = 5\n",
    "for i in range(1, n+1):\n",
    "    for j in range(n - i):\n",
    "        print(' ', end='')\n",
    "    for k in range(2 * i -1):    \n",
    "        print('*', end=\"\")\n",
    "    print()    "
   ]
  },
  {
   "cell_type": "code",
   "execution_count": null,
   "id": "fce9e315",
   "metadata": {},
   "outputs": [],
   "source": [
    "Q2(s)"
   ]
  },
  {
   "cell_type": "code",
   "execution_count": 86,
   "id": "3e784f02",
   "metadata": {},
   "outputs": [
    {
     "name": "stdout",
     "output_type": "stream",
     "text": [
      "    1\n",
      "   222\n",
      "  33333\n",
      " 4444444\n",
      "555555555\n"
     ]
    }
   ],
   "source": [
    "for i in range(1, 6):\n",
    "    for j in range(5, i, -1):\n",
    "        print(\" \", end=\"\")\n",
    "    for k in range(1, 2*i):\n",
    "        print(i, end='')\n",
    "    print()    "
   ]
  },
  {
   "cell_type": "markdown",
   "id": "a6d8e9e2",
   "metadata": {},
   "source": [
    "Q2(u)"
   ]
  },
  {
   "cell_type": "code",
   "execution_count": 100,
   "id": "83617f30",
   "metadata": {},
   "outputs": [
    {
     "name": "stdout",
     "output_type": "stream",
     "text": [
      "     *\n",
      "    * * *\n",
      "   * * * * *\n",
      "  * * * * * * *\n",
      " * * * * * * * * *\n"
     ]
    }
   ],
   "source": [
    "n = 5\n",
    "for i in range(1, n+1):\n",
    "    for j in range(n - i):\n",
    "        print(' ', end='')\n",
    "    for k in range(2 * i -1):    \n",
    "        print(' *', end=\"\")\n",
    "    print()    "
   ]
  },
  {
   "cell_type": "markdown",
   "id": "4f0713ab",
   "metadata": {},
   "source": [
    "Q4(a)"
   ]
  },
  {
   "cell_type": "code",
   "execution_count": 101,
   "id": "a426950a",
   "metadata": {},
   "outputs": [
    {
     "name": "stdout",
     "output_type": "stream",
     "text": [
      "    *\n",
      "   ***\n",
      "  *****\n",
      " *******\n",
      "*********\n",
      " *******\n",
      "  *****\n",
      "   ***\n",
      "    *\n"
     ]
    }
   ],
   "source": [
    "row = 5\n",
    "for i in range(1, row+1):\n",
    "    for j in range(1, row-i+1):\n",
    "        print(\" \", end=\"\")\n",
    "    for j in range(1, 2*i):\n",
    "        print(\"*\", end=\"\")\n",
    "    print() \n",
    "    \n",
    "for i in range(row-1,0, -1):\n",
    "    for j in range(1,row-i+1):\n",
    "        print(\" \", end=\"\")\n",
    "    for j in range(1, 2*i):\n",
    "        print(\"*\", end=\"\")\n",
    "    print()"
   ]
  },
  {
   "cell_type": "markdown",
   "id": "de9fea34",
   "metadata": {},
   "source": [
    "Q4(g)"
   ]
  },
  {
   "cell_type": "code",
   "execution_count": 102,
   "id": "ff15312a",
   "metadata": {},
   "outputs": [
    {
     "name": "stdout",
     "output_type": "stream",
     "text": [
      "Hollow rectangular pattern is: \n",
      "*******\n",
      "*     *\n",
      "*     *\n",
      "*     *\n",
      "*     *\n",
      "*     *\n",
      "*******\n"
     ]
    }
   ],
   "source": [
    "row = 7\n",
    "col = 7\n",
    "\n",
    "print(\"Hollow rectangular pattern is: \")\n",
    "for i in range(1,row+1):\n",
    "    for j in range(1,col+1):\n",
    "        if i==1 or i==row or j==1 or j==col:\n",
    "            print(\"*\", end=\"\")\n",
    "        else:\n",
    "            print(\" \", end=\"\")\n",
    "    print()"
   ]
  },
  {
   "cell_type": "markdown",
   "id": "6f99efb1",
   "metadata": {},
   "source": [
    "Q4(f)"
   ]
  },
  {
   "cell_type": "code",
   "execution_count": 103,
   "id": "408b5925",
   "metadata": {},
   "outputs": [
    {
     "name": "stdout",
     "output_type": "stream",
     "text": [
      "Rectangular pattern is: \n",
      "*******\n",
      "*******\n",
      "*******\n",
      "*******\n",
      "*******\n",
      "*******\n",
      "*******\n"
     ]
    }
   ],
   "source": [
    "row = 7\n",
    "col = 7\n",
    "\n",
    "print(\"Rectangular pattern is: \")\n",
    "for i in range(1,row+1):\n",
    "    for j in range(1,col+1):\n",
    "        print(\"*\", end=\"\")\n",
    "    print()"
   ]
  },
  {
   "cell_type": "markdown",
   "id": "3dfe8f25",
   "metadata": {},
   "source": [
    "Q4(c)"
   ]
  },
  {
   "cell_type": "code",
   "execution_count": 104,
   "id": "a9f4f805",
   "metadata": {},
   "outputs": [
    {
     "name": "stdout",
     "output_type": "stream",
     "text": [
      "    1\n",
      "   123\n",
      "  12345\n",
      " 1234567\n",
      "123456789\n",
      " 1234567\n",
      "  12345\n",
      "   123\n",
      "    1\n"
     ]
    }
   ],
   "source": [
    "n = 5\n",
    "\n",
    "\n",
    "for i in range(n):\n",
    "    for j in range(n - i - 1):\n",
    "        print(' ', end='')\n",
    "    for j in range(2 * i + 1):\n",
    "        print(j+1, end='')\n",
    "    print()\n",
    "\n",
    "\n",
    "for i in range(n - 1):\n",
    "    for j in range(i + 1):\n",
    "        print(' ', end='')\n",
    "    for j in range(2*(n - i - 1) - 1):\n",
    "        print(j+1, end='')\n",
    "    print()"
   ]
  },
  {
   "cell_type": "markdown",
   "id": "9e797200",
   "metadata": {},
   "source": [
    "Q4(b)"
   ]
  },
  {
   "cell_type": "code",
   "execution_count": 105,
   "id": "24da470f",
   "metadata": {},
   "outputs": [
    {
     "name": "stdout",
     "output_type": "stream",
     "text": [
      "    1\n",
      "   222\n",
      "  33333\n",
      " 4444444\n",
      "555555555\n",
      " 4444444\n",
      "  33333\n",
      "   222\n",
      "    1\n"
     ]
    }
   ],
   "source": [
    "rows = 5\n",
    "\n",
    "\n",
    "for i in range(1, rows + 1):\n",
    "    for j in range(rows - i):\n",
    "        print(\" \", end=\"\")\n",
    "    \n",
    "    for k in range(1, 2 * i):\n",
    "        print(i, end=\"\")\n",
    "    \n",
    "    print()\n",
    "\n",
    "\n",
    "for i in range(rows - 1, 0, -1):\n",
    "    for j in range(rows - i):\n",
    "        print(\" \", end=\"\")\n",
    "    \n",
    "    for k in range(1, 2 * i):\n",
    "        print(i, end=\"\")\n",
    "    \n",
    "    print()"
   ]
  },
  {
   "cell_type": "markdown",
   "id": "7ca90b40",
   "metadata": {},
   "source": [
    "Q4(d)"
   ]
  },
  {
   "cell_type": "code",
   "execution_count": 118,
   "id": "fb301b45",
   "metadata": {},
   "outputs": [
    {
     "name": "stdout",
     "output_type": "stream",
     "text": [
      "    1\n",
      "   232\n",
      "  34543\n",
      " 4567654\n",
      "567898765\n"
     ]
    }
   ],
   "source": [
    "n = 5\n",
    "num = 1\n",
    "gap = n - 1\n",
    "for j in range(1, n + 1) :\n",
    "    num = j\n",
    "    for i in range(1, gap + 1) :\n",
    "        print(\" \", end=\"\")\n",
    "    gap = gap - 1\n",
    "         \n",
    "    for i in range(1, j + 1) :\n",
    "        print(num, end=\"\")\n",
    "        num = num + 1\n",
    "     \n",
    "    num = num - 2\n",
    "    for i in range(1, j) :\n",
    "        print(num, end=\"\")\n",
    "        num = num - 1\n",
    "     \n",
    "    print()\n",
    "      "
   ]
  },
  {
   "cell_type": "code",
   "execution_count": 1,
   "id": "b670de3b",
   "metadata": {},
   "outputs": [
    {
     "name": "stdout",
     "output_type": "stream",
     "text": [
      "\n",
      "*\n",
      "**\n",
      "***\n",
      "****\n",
      "*****\n"
     ]
    }
   ],
   "source": [
    "# 1>a)\n",
    "n=6\n",
    "for i in range (n):\n",
    "    print(\"*\"*i)"
   ]
  },
  {
   "cell_type": "code",
   "execution_count": 2,
   "id": "a0fc8ff2",
   "metadata": {},
   "outputs": [
    {
     "name": "stdout",
     "output_type": "stream",
     "text": [
      " \n",
      "1  \n",
      "2 2  \n",
      "3 3 3  \n",
      "4 4 4 4  \n",
      "5 5 5 5 5  \n"
     ]
    }
   ],
   "source": [
    "# 1>b)\n",
    "n=6\n",
    "for i in range (n):\n",
    "    for j in range(i):\n",
    "        print(i,end=\" \")\n",
    "    print(\" \")"
   ]
  },
  {
   "cell_type": "code",
   "execution_count": 3,
   "id": "aa70a7a4",
   "metadata": {},
   "outputs": [
    {
     "name": "stdout",
     "output_type": "stream",
     "text": [
      "1 \n",
      "1 2 \n",
      "1 2 3 \n",
      "1 2 3 4 \n",
      "1 2 3 4 5 \n"
     ]
    }
   ],
   "source": [
    "# 1>c)\n",
    "n=6\n",
    "i=1\n",
    "for (i) in range(1,n):\n",
    "    for j in range(1,i+1):\n",
    "        print(j,end=\" \")\n",
    "    print(\"\")"
   ]
  },
  {
   "cell_type": "code",
   "execution_count": 4,
   "id": "67f3c41b",
   "metadata": {},
   "outputs": [
    {
     "name": "stdout",
     "output_type": "stream",
     "text": [
      "2 \n",
      "3 4 \n",
      "4 5 6 \n",
      "5 6 7 8 \n",
      "6 7 8 9 10 \n"
     ]
    }
   ],
   "source": [
    "# 1>d)\n",
    "n=6\n",
    "for (i) in range(1,n):\n",
    "    for j in range(1,i+1):\n",
    "        print(i+j,end=\" \")\n",
    "    print(\"\")"
   ]
  },
  {
   "cell_type": "code",
   "execution_count": 5,
   "id": "ac6c9033",
   "metadata": {},
   "outputs": [
    {
     "name": "stdout",
     "output_type": "stream",
     "text": [
      "1 \n",
      "0 1 \n",
      "1 0 1 \n",
      "0 1 0 1 \n",
      "1 0 1 0 1 \n"
     ]
    }
   ],
   "source": [
    "# 1>5)\n",
    "n=6\n",
    "for (i) in range(1,n):\n",
    "    for j in range(1,i+1):\n",
    "        p=i+j\n",
    "        if p%2==0:\n",
    "            print(\"1\",end=\" \")\n",
    "        else:\n",
    "            print(\"0\",end=\" \")\n",
    "        \n",
    "    print(\"\")"
   ]
  },
  {
   "cell_type": "code",
   "execution_count": 6,
   "id": "f3b2859a",
   "metadata": {},
   "outputs": [
    {
     "name": "stdout",
     "output_type": "stream",
     "text": [
      "1 \n",
      "2 3 \n",
      "4 5 6 \n",
      "7 8 9 10 \n",
      "11 12 13 14 15 \n"
     ]
    }
   ],
   "source": [
    "# 1>f)\n",
    "n=6\n",
    "a=1\n",
    "for (i) in range(1,n):\n",
    "    for j in range(1,i+1):\n",
    "        print(a,end=\" \")\n",
    "        a+=1\n",
    "    print(\"\")"
   ]
  },
  {
   "cell_type": "code",
   "execution_count": 7,
   "id": "540ed4c9",
   "metadata": {},
   "outputs": [
    {
     "name": "stdout",
     "output_type": "stream",
     "text": [
      "5 \n",
      "5 4 \n",
      "5 4 3 \n",
      "5 4 3 2 \n",
      "5 4 3 2 1 \n"
     ]
    }
   ],
   "source": [
    "# 1>g)\n",
    "n=5\n",
    "for (i) in range(n,0,-1):\n",
    "    for j in range(n,i-1,-1):\n",
    "        print(j,end=\" \")\n",
    "        \n",
    "    print(\"\")"
   ]
  },
  {
   "cell_type": "code",
   "execution_count": 8,
   "id": "7cb966b4",
   "metadata": {},
   "outputs": [
    {
     "name": "stdout",
     "output_type": "stream",
     "text": [
      "5 \n",
      "4 4 \n",
      "3 3 3 \n",
      "2 2 2 2 \n",
      "1 1 1 1 1 \n"
     ]
    }
   ],
   "source": [
    "# 1>h)\n",
    "n=5\n",
    "for (i) in range(n,0,-1):\n",
    "    for j in range(n,i-1,-1):\n",
    "        print(i,end=\" \")\n",
    "        \n",
    "    print(\"\")"
   ]
  },
  {
   "cell_type": "code",
   "execution_count": 9,
   "id": "018fadc9",
   "metadata": {},
   "outputs": [
    {
     "name": "stdout",
     "output_type": "stream",
     "text": [
      "****** \n",
      "***** \n",
      "**** \n",
      "*** \n",
      "** \n",
      "* \n"
     ]
    }
   ],
   "source": [
    "# 1>i)\n",
    "n=6\n",
    "for (i) in range(n,0,-1):\n",
    "    for j in range(1,i+1,n):\n",
    "        print(\"*\"*i,end=\" \")\n",
    "        \n",
    "    print(\"\")"
   ]
  },
  {
   "cell_type": "code",
   "execution_count": 10,
   "id": "2f5a53d9",
   "metadata": {},
   "outputs": [
    {
     "name": "stdout",
     "output_type": "stream",
     "text": [
      "1 1 1 1 1 \n",
      "2 2 2 2 \n",
      "3 3 3 \n",
      "4 4 \n",
      "5 \n"
     ]
    }
   ],
   "source": [
    "# 1>j)\n",
    "n=5\n",
    "for (i) in range(n,0,-1):\n",
    "    for j in range(1,i+1,1):\n",
    "        print(6-i,end=\" \")\n",
    "        \n",
    "    print(\"\")"
   ]
  },
  {
   "cell_type": "code",
   "execution_count": 11,
   "id": "d209657d",
   "metadata": {},
   "outputs": [
    {
     "name": "stdout",
     "output_type": "stream",
     "text": [
      "5 5 5 5 5 \n",
      "4 4 4 4 \n",
      "3 3 3 \n",
      "2 2 \n",
      "1 \n"
     ]
    }
   ],
   "source": [
    "# 1>l)\n",
    "n=5\n",
    "for (i) in range(n,0,-1):\n",
    "    for j in range(1,i+1,1):\n",
    "        print(i,end=\" \")\n",
    "        \n",
    "    print(\"\")"
   ]
  },
  {
   "cell_type": "code",
   "execution_count": 12,
   "id": "2d9f0316",
   "metadata": {},
   "outputs": [
    {
     "name": "stdout",
     "output_type": "stream",
     "text": [
      "5 4 3 2 1 \n",
      "5 4 3 2 \n",
      "5 4 3 \n",
      "5 4 \n",
      "5 \n"
     ]
    }
   ],
   "source": [
    "# 1>m)\n",
    "# 1>l)\n",
    "n=5\n",
    "for (i) in range(n,0,-1):\n",
    "    for j in range(1,i+1,1):\n",
    "        print(6-j,end=\" \")\n",
    "        \n",
    "    print(\"\")"
   ]
  },
  {
   "cell_type": "code",
   "execution_count": 13,
   "id": "479c1106",
   "metadata": {},
   "outputs": [
    {
     "name": "stdout",
     "output_type": "stream",
     "text": [
      "    1\n",
      "   232\n",
      "  34543\n",
      " 4567654\n",
      "567898765\n"
     ]
    }
   ],
   "source": [
    "# 3>v)\n",
    "n = 5\n",
    "num = 1\n",
    "gap = n - 1\n",
    "for j in range(1, n + 1) :\n",
    "    num = j\n",
    "    for i in range(1, gap + 1) :\n",
    "        print(\" \", end=\"\")\n",
    "    gap = gap - 1\n",
    "         \n",
    "    for i in range(1, j + 1) :\n",
    "        print(num, end=\"\")\n",
    "        num = num + 1\n",
    "     \n",
    "    num = num - 2\n",
    "    for i in range(1, j) :\n",
    "        print(num, end=\"\")\n",
    "        num = num - 1\n",
    "     \n",
    "    print()"
   ]
  },
  {
   "cell_type": "code",
   "execution_count": 14,
   "id": "8e6c3800",
   "metadata": {},
   "outputs": [
    {
     "name": "stdout",
     "output_type": "stream",
     "text": [
      "         5  \n",
      "       5 4 5  \n",
      "     5 4 3 4 5  \n",
      "   5 4 3 2 3 4 5  \n",
      " 5 4 3 2 1 2 3 4 5  \n"
     ]
    }
   ],
   "source": [
    "# 1>w)\n",
    "i=0\n",
    "while i< 5:\n",
    "    print('  '*(4-i),end=\" \")\n",
    "    j=0\n",
    "    while j-1 < i*2:\n",
    "        if j+1 > i+1:\n",
    "            print(5-(i*2-j),end=\" \")\n",
    "        else:\n",
    "            print(5-j,end=\" \")\n",
    "        j+=1\n",
    "    print(\" \")\n",
    "    i+=1"
   ]
  },
  {
   "cell_type": "code",
   "execution_count": 15,
   "id": "b985c0f9",
   "metadata": {},
   "outputs": [
    {
     "name": "stdout",
     "output_type": "stream",
     "text": [
      "     * * * * * *     \n",
      "      * * * * *      \n",
      "       * * * *       \n",
      "        * * *        \n",
      "         * *         \n",
      "          *          \n"
     ]
    }
   ],
   "source": [
    "# 3>x)\n",
    "n=6\n",
    "for (i) in range(n,0,-1):\n",
    "    for j in range(1,i+1,n):\n",
    "        print(str(\" *\"*i).center(20),end=\" \")\n",
    "        \n",
    "    print(\"\")"
   ]
  },
  {
   "cell_type": "code",
   "execution_count": 18,
   "id": "6ee8f583",
   "metadata": {},
   "outputs": [
    {
     "ename": "SyntaxError",
     "evalue": "invalid syntax. Maybe you meant '==' or ':=' instead of '='? (2141499065.py, line 5)",
     "output_type": "error",
     "traceback": [
      "\u001b[1;36m  Cell \u001b[1;32mIn[18], line 5\u001b[1;36m\u001b[0m\n\u001b[1;33m    m=(\" \", end=\"\")\u001b[0m\n\u001b[1;37m            ^\u001b[0m\n\u001b[1;31mSyntaxError\u001b[0m\u001b[1;31m:\u001b[0m invalid syntax. Maybe you meant '==' or ':=' instead of '='?\n"
     ]
    }
   ],
   "source": [
    "# 3>z)\n",
    "n=5\n",
    "for (i) in range(n,0,-1):\n",
    "    for j in range(1,i+1,n):\n",
    "        m=(\" \", end=\"\")\n",
    "        print(str(f\"{i} \"*m).center(20),end=\" \")\n",
    "        \n",
    "    print(\"\")"
   ]
  },
  {
   "cell_type": "code",
   "execution_count": null,
   "id": "8132ab61",
   "metadata": {},
   "outputs": [],
   "source": []
  }
 ],
 "metadata": {
  "kernelspec": {
   "display_name": "Python 3 (ipykernel)",
   "language": "python",
   "name": "python3"
  },
  "language_info": {
   "codemirror_mode": {
    "name": "ipython",
    "version": 3
   },
   "file_extension": ".py",
   "mimetype": "text/x-python",
   "name": "python",
   "nbconvert_exporter": "python",
   "pygments_lexer": "ipython3",
   "version": "3.10.9"
  }
 },
 "nbformat": 4,
 "nbformat_minor": 5
}
