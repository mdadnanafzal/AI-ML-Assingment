{
 "cells": [
  {
   "cell_type": "markdown",
   "id": "e8faac9c",
   "metadata": {},
   "source": [
    "Q4"
   ]
  },
  {
   "cell_type": "code",
   "execution_count": 1,
   "id": "5ccdd458",
   "metadata": {},
   "outputs": [
    {
     "name": "stdout",
     "output_type": "stream",
     "text": [
      "Enter the number of rows (m): 3\n",
      "Enter the number of columns (n): 3\n",
      "Enter element at position (1, 1): 1\n",
      "Enter element at position (1, 2): 2\n",
      "Enter element at position (1, 3): 3\n",
      "Enter element at position (2, 1): 4\n",
      "Enter element at position (2, 2): 5\n",
      "Enter element at position (2, 3): 6\n",
      "Enter element at position (3, 1): 7\n",
      "Enter element at position (3, 2): 8\n",
      "Enter element at position (3, 3): 9\n",
      "Matrix:\n",
      "[1, 2, 3]\n",
      "[4, 5, 6]\n",
      "[7, 8, 9]\n"
     ]
    }
   ],
   "source": [
    "def create_matrix(m, n):\n",
    "    matrix = []\n",
    "\n",
    "    for i in range(m):\n",
    "        row = []\n",
    "        for j in range(n):\n",
    "            element = int(input(f\"Enter element at position ({i+1}, {j+1}): \"))\n",
    "            row.append(element)\n",
    "        matrix.append(row)\n",
    "\n",
    "    return matrix\n",
    "\n",
    "\n",
    "\n",
    "rows = int(input(\"Enter the number of rows (m): \"))\n",
    "columns = int(input(\"Enter the number of columns (n): \"))\n",
    "\n",
    "matrix = create_matrix(rows, columns)\n",
    "\n",
    "print(\"Matrix:\")\n",
    "for row in matrix:\n",
    "    print(row)\n"
   ]
  },
  {
   "cell_type": "markdown",
   "id": "a44c4996",
   "metadata": {},
   "source": [
    "Q5"
   ]
  },
  {
   "cell_type": "code",
   "execution_count": null,
   "id": "bab1e44e",
   "metadata": {},
   "outputs": [],
   "source": [
    "def create_matrix(rows, columns):\n",
    "    matrix = []\n",
    "\n",
    "    for i in range(rows):\n",
    "        row = []\n",
    "        for j in range(columns):\n",
    "            element = int(input(f\"Enter element at position ({i+1}, {j+1}): \"))\n",
    "            row.append(element)\n",
    "        matrix.append(row)\n",
    "\n",
    "    return matrix\n",
    "\n",
    "\n",
    "def add_matrices(matrix1, matrix2):\n",
    "    result = []\n",
    "\n",
    "    for i in range(len(matrix1)):\n",
    "        row = []\n",
    "        for j in range(len(matrix1[0])):\n",
    "            sum_element = matrix1[i][j] + matrix2[i][j]\n",
    "            row.append(sum_element)\n",
    "        result.append(row)\n",
    "\n",
    "    return result\n",
    "\n",
    "\n",
    "def multiply_matrices(matrix1, matrix2):\n",
    "    result = []\n",
    "\n",
    "    for i in range(len(matrix1)):\n",
    "        row = []\n",
    "        for j in range(len(matrix2[0])):\n",
    "            product = 0\n",
    "            for k in range(len(matrix2)):\n",
    "                product += matrix1[i][k] * matrix2[k][j]\n",
    "            row.append(product)\n",
    "        result.append(row)\n",
    "\n",
    "    return result\n",
    "\n",
    "\n",
    "def transpose_matrix(matrix):\n",
    "    transposed = [[matrix[j][i] for j in range(len(matrix))] for i in range(len(matrix[0]))]\n",
    "    return transposed\n",
    "\n",
    "\n",
    "\n",
    "rows = int(input(\"Enter the number of rows for the matrices: \"))\n",
    "columns = int(input(\"Enter the number of columns for the matrices: \"))\n",
    "\n",
    "print(\"Enter elements for Matrix 1:\")\n",
    "matrix1 = create_matrix(rows, columns)\n",
    "\n",
    "print(\"Enter elements for Matrix 2:\")\n",
    "matrix2 = create_matrix(rows, columns)\n",
    "\n",
    "print(\"Matrix 1:\")\n",
    "for row in matrix1:\n",
    "    print(row)\n",
    "\n",
    "print(\"Matrix 2:\")\n",
    "for row in matrix2:\n",
    "    print(row)\n",
    "\n",
    "\n",
    "addition_result = add_matrices(matrix1, matrix2)\n",
    "print(\"Addition Result:\")\n",
    "for row in addition_result:\n",
    "    print(row)\n",
    "\n",
    "\n",
    "multiplication_result = multiply_matrices(matrix1, matrix2)\n",
    "print(\"Multiplication Result:\")\n",
    "for row in multiplication_result:\n",
    "    print(row)\n",
    "transpose_result = transpose_matrix(matrix1)\n",
    "print(\"Transpose Result:\")\n",
    "for row in transpose_result:\n",
    "    print(row)\n"
   ]
  },
  {
   "cell_type": "markdown",
   "id": "62f20a6f",
   "metadata": {},
   "source": [
    "Q3.Write a Python Program to remove punctuation from a given string (using loop) "
   ]
  },
  {
   "cell_type": "code",
   "execution_count": 1,
   "id": "04abd49c",
   "metadata": {},
   "outputs": [
    {
     "name": "stdout",
     "output_type": "stream",
     "text": [
      "Enter a string: hello\n",
      "hello\n"
     ]
    }
   ],
   "source": [
    "punctuation = '''''!()-[]{};:'\"\\,<>./?@#$%^&*_~'''  \n",
    "my_str = input(\"Enter a string: \")  \n",
    "no_punct = \"\"  \n",
    "for char in my_str:  \n",
    "    if char not in punctuation:  \n",
    "        no_punct = no_punct + char    \n",
    "print(no_punct)  "
   ]
  },
  {
   "cell_type": "markdown",
   "id": "a03afc60",
   "metadata": {},
   "source": [
    "Q2.Write a Python Code to count number of words, characters and number of spaces in a given stirng "
   ]
  },
  {
   "cell_type": "code",
   "execution_count": 3,
   "id": "1bf3bd81",
   "metadata": {},
   "outputs": [
    {
     "name": "stdout",
     "output_type": "stream",
     "text": [
      "Enter the string\n",
      "hello world\n",
      "Total words  2\n",
      "Total characters  10\n",
      "Number of space  1\n"
     ]
    }
   ],
   "source": [
    "wordCount=0\n",
    "charCount=0\n",
    "\n",
    "str=input(\"Enter the string\\n\")\n",
    "split_str=str.split()\n",
    "\n",
    "wordCount=len(split_str)\n",
    "\n",
    "for word in split_str:\n",
    "\n",
    "    charCount+=len(word)\n",
    "print(\"Total words \",wordCount)\n",
    "print(\"Total characters \",charCount)\n",
    "print(\"Number of space \",(wordCount-1))"
   ]
  },
  {
   "cell_type": "markdown",
   "id": "bd2bc4a8",
   "metadata": {},
   "source": [
    "Q1.Write a Python Code to count the Number of Each Vowel in a given string "
   ]
  },
  {
   "cell_type": "code",
   "execution_count": null,
   "id": "f3600195",
   "metadata": {},
   "outputs": [],
   "source": [
    "vowels = 'aeiou'\n",
    "\n",
    "ip_str = str(input(\"enter\"))\n",
    "\n",
    "\n",
    "ip_str = ip_str.casefold()\n",
    "\n",
    "\n",
    "count = {}.fromkeys(vowels,0)\n",
    "\n",
    "\n",
    "for char in ip_str:\n",
    "    if char in count:\n",
    "        count[char] += 1\n",
    "\n",
    "print(count)"
   ]
  }
 ],
 "metadata": {
  "kernelspec": {
   "display_name": "Python 3 (ipykernel)",
   "language": "python",
   "name": "python3"
  },
  "language_info": {
   "codemirror_mode": {
    "name": "ipython",
    "version": 3
   },
   "file_extension": ".py",
   "mimetype": "text/x-python",
   "name": "python",
   "nbconvert_exporter": "python",
   "pygments_lexer": "ipython3",
   "version": "3.10.9"
  }
 },
 "nbformat": 4,
 "nbformat_minor": 5
}
